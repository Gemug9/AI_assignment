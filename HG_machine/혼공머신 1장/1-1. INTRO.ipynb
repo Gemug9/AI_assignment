{
 "cells": [
  {
   "cell_type": "markdown",
   "id": "69356521",
   "metadata": {},
   "source": [
    "# 인공지능과 머신러닝, 딥러닝"
   ]
  },
  {
   "cell_type": "markdown",
   "id": "9edc7468",
   "metadata": {},
   "source": [
    "## 인공지능이란"
   ]
  },
  {
   "cell_type": "markdown",
   "id": "6159c1a8",
   "metadata": {},
   "source": [
    "#### 인공지능\n",
    "사람처럼 학습하고 추론할 수 있는 지능을 가진 컴퓨터 시스템을 만드는 기술  \n",
    "영화에서 비춰지는 인공지능은 '강인공지능'.  \n",
    "이들은 사람과 구분하기 거의 어려운 고도의 지능을 가지고 있다.  \n",
    "반면 현실에서 우리가 마주하는 인공지능은 '약인공지능'.  \n",
    "사람의 일을 도와주는 보조적 역할이지만 빠른 속도로 발전해나가고 있다."
   ]
  },
  {
   "cell_type": "markdown",
   "id": "1aec03bc",
   "metadata": {},
   "source": [
    "#### 머신러닝\n",
    "규칙을 일일이 프로그래밍하지 않아도 자동으로 데이터에서 규칙을 학습하는 알고리즘을 연구하는 분야  \n",
    "통계학과 깊은 관련이 있다. 최근에는 통계나 수학 이론보다 경험을 바탕으로 발전하는 경우도 많다.  \n",
    "*사이킷런* : 파이썬 API를 사용하는 오픈소스 라이브러리"
   ]
  },
  {
   "cell_type": "markdown",
   "id": "7c954eb2",
   "metadata": {},
   "source": [
    "#### 딥러닝\n",
    "많은 머신러닝 알고리즘 중에 인공 신경망을 기반으로 한 방법들  \n",
    "*텐서플로* : 구글의 딥러닝 오픈소스 라이브러리  \n",
    "*파이토치* : 페이스북의 딥러닝 오픈소스 라이브러리"
   ]
  },
  {
   "cell_type": "markdown",
   "id": "98e11f11",
   "metadata": {},
   "source": [
    "# 코랩과 주피터 노트북"
   ]
  },
  {
   "cell_type": "markdown",
   "id": "9363f800",
   "metadata": {},
   "source": [
    "사용법은 어렵지 않고 알아서 찾아봐도 됨.  \n",
    "코랩도 좋지만 나중에 그래픽적인 요소를 넣을 때 주피터 노트북이 조금 더 낫다는 교수님 의견."
   ]
  }
 ],
 "metadata": {
  "kernelspec": {
   "display_name": "ai",
   "language": "python",
   "name": "ai"
  },
  "language_info": {
   "codemirror_mode": {
    "name": "ipython",
    "version": 3
   },
   "file_extension": ".py",
   "mimetype": "text/x-python",
   "name": "python",
   "nbconvert_exporter": "python",
   "pygments_lexer": "ipython3",
   "version": "3.10.9"
  }
 },
 "nbformat": 4,
 "nbformat_minor": 5
}
