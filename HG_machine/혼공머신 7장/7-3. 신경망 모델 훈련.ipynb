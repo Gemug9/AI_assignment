{
 "cells": [
  {
   "cell_type": "markdown",
   "metadata": {
    "id": "pqxnslml3tu6"
   },
   "source": [
    "# 신경망 모델 훈련"
   ]
  },
  {
   "cell_type": "code",
   "execution_count": 2,
   "metadata": {
    "id": "M54mUYlhwnex"
   },
   "outputs": [],
   "source": [
    "# 실행마다 동일한 결과를 얻기 위해 케라스에 랜덤 시드를 사용하고 텐서플로 연산을 결정적으로 만듭니다.\n",
    "import tensorflow as tf\n",
    "\n",
    "tf.keras.utils.set_random_seed(42)\n",
    "tf.config.experimental.enable_op_determinism()"
   ]
  },
  {
   "cell_type": "markdown",
   "metadata": {
    "id": "XGP-X65EmJBg"
   },
   "source": [
    "## 손실 곡선\n",
    "2절에서 fit() 메서드로 모델을 훈련하면 훈련 과정이 상세하게 출력되어 확인할 수 있었다. 에포크 횟수, 손실, 정확도 등  \n",
    "그런데 이 출력의 마무리에 다음과 같은 메시지를 본적이 있을 것이다.  \n",
    "```\n",
    "<tensorflow.python.keras.callbacks.History at 0x7ef38bfc080>\n",
    "```"
   ]
  },
  {
   "cell_type": "markdown",
   "metadata": {},
   "source": [
    "노트북의 코드 셀은 print() 명령을 사용하지 않더라도 마지막 라인의 실행 결과를 자동으로 출력함.  \n",
    "즉 이 메시지는 fit() 메서드의 실행 결과르르 출력한 것. 다시 말해 fit() 메서드가 무엇인가 반환한다는 증거.  \n",
    "실은 케라스의 fit() 메서드는 History 클래스 개게를 반환. History 객체에는 훈련 과정에서 계산한 지표, 즉 손실과 정확도 값이 저장되어 있다.  \n",
    "이 값을 사용하여 그래프를 그릴 수 있을 것임.  \n",
    "노트북의 코드 셀에서 마자막 라인은 실행 결과를 자동으로 출력하고, 중간에 출력하고 싶으면 print() 명령을 사용해야 한다."
   ]
  },
  {
   "cell_type": "markdown",
   "metadata": {},
   "source": [
    "먼저 이전 절에서 사용했던 것과 같이 패션 MNIST 데이터셋을 적재하고 훈련 세트와 검증 세트로 나누자."
   ]
  },
  {
   "cell_type": "code",
   "execution_count": 3,
   "metadata": {
    "colab": {
     "base_uri": "https://localhost:8080/"
    },
    "id": "hZsGl9udlqZk",
    "outputId": "03aebc93-253e-4f21-b8c1-b1510d68c038"
   },
   "outputs": [],
   "source": [
    "from tensorflow import keras\n",
    "from sklearn.model_selection import train_test_split\n",
    "\n",
    "(train_input, train_target), (test_input, test_target) = \\\n",
    "    keras.datasets.fashion_mnist.load_data()\n",
    "\n",
    "train_scaled = train_input / 255.0\n",
    "\n",
    "train_scaled, val_scaled, train_target, val_target = train_test_split(\n",
    "    train_scaled, train_target, test_size=0.2, random_state=42)"
   ]
  },
  {
   "cell_type": "markdown",
   "metadata": {},
   "source": [
    "그다음 모델을 만들자. 그런데 이전 절과는 달리 모델을 만드는 간단한 함수를 정의하자. 이 함수는 하나의 매개변수를 가짐."
   ]
  },
  {
   "cell_type": "code",
   "execution_count": 4,
   "metadata": {
    "id": "iogH7o0Ll6uL"
   },
   "outputs": [],
   "source": [
    "def model_fn(a_layer=None):\n",
    "    model = keras.Sequential()\n",
    "    model.add(keras.layers.Flatten(input_shape=(28, 28)))\n",
    "    model.add(keras.layers.Dense(100, activation='relu'))\n",
    "    if a_layer:\n",
    "        model.add(a_layer)\n",
    "    model.add(keras.layers.Dense(10, activation='softmax'))\n",
    "    return model"
   ]
  },
  {
   "cell_type": "markdown",
   "metadata": {},
   "source": [
    "if 구문을 제외하면 이 코드는 이전 절에서 만든 것과 동일한 모델을 만든다. if 구문의 역할은 model_fn() 함수에 (a_layer 매개변수로) 케라스 층을 추가하면 은닉층 뒤에 또 하나의 층을 추가하는 것. 어떤가? 마치 프로그래밍하는 느낌이지 않나?"
   ]
  },
  {
   "cell_type": "markdown",
   "metadata": {},
   "source": [
    "여기서는 a_layer 매개변수로 층을 추가하지 않고 단순하게 model_fn() 함수를 호출한다.  \n",
    "그리고 모델 구조를 출력하면 이전 절과 동일한 모델이라는 것을 확인할 수 있다."
   ]
  },
  {
   "cell_type": "code",
   "execution_count": 5,
   "metadata": {
    "colab": {
     "base_uri": "https://localhost:8080/"
    },
    "id": "5Eh6hM4DNdzu",
    "outputId": "3a49d79d-0174-4d91-f9ff-65fc858aaec0"
   },
   "outputs": [
    {
     "name": "stdout",
     "output_type": "stream",
     "text": [
      "Model: \"sequential\"\n",
      "_________________________________________________________________\n",
      " Layer (type)                Output Shape              Param #   \n",
      "=================================================================\n",
      " flatten (Flatten)           (None, 784)               0         \n",
      "                                                                 \n",
      " dense (Dense)               (None, 100)               78500     \n",
      "                                                                 \n",
      " dense_1 (Dense)             (None, 10)                1010      \n",
      "                                                                 \n",
      "=================================================================\n",
      "Total params: 79,510\n",
      "Trainable params: 79,510\n",
      "Non-trainable params: 0\n",
      "_________________________________________________________________\n"
     ]
    }
   ],
   "source": [
    "model = model_fn()\n",
    "\n",
    "model.summary()"
   ]
  },
  {
   "cell_type": "markdown",
   "metadata": {},
   "source": [
    "이전 절과 동일하게 모델을 훈련하지만 fit() 메서드의 결과를 history 변수에 담아 보자."
   ]
  },
  {
   "cell_type": "code",
   "execution_count": 6,
   "metadata": {
    "id": "P-UK21N_mCM0"
   },
   "outputs": [],
   "source": [
    "model.compile(loss='sparse_categorical_crossentropy', metrics='accuracy')\n",
    "\n",
    "history = model.fit(train_scaled, train_target, epochs=5, verbose=0)"
   ]
  },
  {
   "cell_type": "markdown",
   "metadata": {},
   "source": [
    "verbose=0이 뭐임?  \n",
    "verbose 매개변수는 훈련 과정 출력을 조절. 기본값은 1로 이전 절에서처럼 에포크마다 진행 막대와 함꼐 손실 등의 지표가 출력됨.  \n",
    "2로 바꾸면 진행 막대를 빼고 출력. 이번 절에서는 훈련 결과를 그래프로 나타내는 대신 verbose 매개변수를 0으로 지정하여 훈련 과정을 나타내지 않는다."
   ]
  },
  {
   "cell_type": "markdown",
   "metadata": {},
   "source": [
    "history 객체에는 훈련 측정값이 담겨 있는 history 딕셔너리가 들어 있다. 이 딕셔너리에 어떤 값이 들어있는지 확인해보자."
   ]
  },
  {
   "cell_type": "code",
   "execution_count": 7,
   "metadata": {
    "colab": {
     "base_uri": "https://localhost:8080/"
    },
    "id": "1ix_EA2LpaR0",
    "outputId": "dd6b6bbe-f34b-4081-b23a-d561ef27fb17"
   },
   "outputs": [
    {
     "name": "stdout",
     "output_type": "stream",
     "text": [
      "dict_keys(['loss', 'accuracy'])\n"
     ]
    }
   ],
   "source": [
    "print(history.history.keys())"
   ]
  },
  {
   "cell_type": "markdown",
   "metadata": {},
   "source": [
    "손실과 정확도가 포함되어 있다. 이전 절에서 언급했듯이 케라스는 기본적으로 에포크마다 손실을 계산.  \n",
    "정확도는 compile() 메서드에서 metrics 매개변수에 'accuracy'를 추가했기 때문에 history 속성에 포함.  \n",
    "history 속성에 포함된 손실과 정확도는 에포크마다 게산한 값이 순서대로 나열된 단순한 리스트임.  \n",
    "맷플롯립을 사용해 쉽게 그래프로 그릴 수 있다."
   ]
  },
  {
   "cell_type": "code",
   "execution_count": 8,
   "metadata": {
    "colab": {
     "base_uri": "https://localhost:8080/",
     "height": 449
    },
    "id": "uz_TCdfPmG6e",
    "outputId": "85241052-c0bb-4e29-c024-885cab73359e"
   },
   "outputs": [
    {
     "data": {
      "image/png": "[encoded data removed]",
      "text/plain": [
       "<Figure size 640x480 with 1 Axes>"
      ]
     },
     "metadata": {},
     "output_type": "display_data"
    }
   ],
   "source": [
    "import matplotlib.pyplot as plt\n",
    "\n",
    "plt.plot(history.history['loss'])\n",
    "plt.xlabel('epoch')\n",
    "plt.ylabel('loss')\n",
    "plt.show()"
   ]
  },
  {
   "cell_type": "markdown",
   "metadata": {},
   "source": [
    "파이썬 리스트의 인덱스는 0부터 시작하므로 5개의 에포크가 0에서부터 4까지 x축에 표현된다. y축은 계산된 손실 값임.  \n",
    "이번에는 정확도를 출력."
   ]
  },
  {
   "cell_type": "code",
   "execution_count": 9,
   "metadata": {
    "colab": {
     "base_uri": "https://localhost:8080/",
     "height": 451
    },
    "id": "CpmK9lXQcBe9",
    "outputId": "6e7b4130-2c06-410a-e839-56da975a2a94"
   },
   "outputs": [
    {
     "data": {
      "image/png": "[encoded data removed]",
      "text/plain": [
       "<Figure size 640x480 with 1 Axes>"
      ]
     },
     "metadata": {},
     "output_type": "display_data"
    }
   ],
   "source": [
    "plt.plot(history.history['accuracy'])\n",
    "plt.xlabel('epoch')\n",
    "plt.ylabel('accuracy')\n",
    "plt.show()"
   ]
  },
  {
   "cell_type": "markdown",
   "metadata": {},
   "source": [
    "확실히 에포크마다 손실이 감소하고 정확도가 향상한다. 그렇다면 에포크를 는ㄹ려서 더 훈련. 계속 손실이 감소하니까.  \n",
    "에포크 횟수를 20으로 늘려서 모델을 훈련하고 손실 그래프를 그려보기"
   ]
  },
  {
   "cell_type": "code",
   "execution_count": 10,
   "metadata": {
    "id": "5cJlWITXqJWr"
   },
   "outputs": [],
   "source": [
    "model = model_fn()\n",
    "model.compile(loss='sparse_categorical_crossentropy', metrics='accuracy')\n",
    "\n",
    "history = model.fit(train_scaled, train_target, epochs=20, verbose=0)"
   ]
  },
  {
   "cell_type": "code",
   "execution_count": 11,
   "metadata": {
    "colab": {
     "base_uri": "https://localhost:8080/",
     "height": 451
    },
    "id": "YT87Fjo2qKPC",
    "outputId": "fe59e8a1-d806-4a93-82ca-a85c43d2a3c8"
   },
   "outputs": [
    {
     "data": {
      "image/png": "[encoded data removed]",
      "text/plain": [
       "<Figure size 640x480 with 1 Axes>"
      ]
     },
     "metadata": {},
     "output_type": "display_data"
    }
   ],
   "source": [
    "plt.plot(history.history['loss'])\n",
    "plt.xlabel('epoch')\n",
    "plt.ylabel('loss')\n",
    "plt.show()"
   ]
  },
  {
   "cell_type": "markdown",
   "metadata": {},
   "source": [
    "예상대로 손실이 잘 감소. 이전보다 더 나은 모델을 훈련한 건가? 이전에 배웠던 것 중에 놓친 것은 없는지 판단해보자."
   ]
  },
  {
   "cell_type": "markdown",
   "metadata": {
    "id": "bGqf6ceRr3zO"
   },
   "source": [
    "## 검증 손실\n",
    "4장에서 확률적 경사 하강법을 사용했을 때 과대/과소적합과 에포크 사이의 관계를 알아보았었다.  \n",
    "인공 신경망은 모두 일종의 경사 하강법을 사용하기 때문에 동일한 개념이 여기에도 적용.  \n",
    "에포크에 따른 과대적합과 과소적합을 파악하려면 훈련 세트에 대한 점수뿐만 아니라 검증 세트에 대한 점수도 필요함.  \n",
    "따라서 앞에서처럼 훈련 세트와 손실만 그려서는 안됨.  \n",
    "4장에서는 정확도를 사용하여 과대/과소적합을 설명했지만 이 장에서는 손실을 사용하여 과대/과소적합을 다룸."
   ]
  },
  {
   "cell_type": "markdown",
   "metadata": {},
   "source": [
    "손실을 사용하는 것돠 정확도를 사용하는 것은 어떤 차이가 있나?  \n",
    "인공 신경망 모델이 최적화하는 대상은 정확도가 아니라 손실 함수. 이따금 손실 감소에 비례하여 정확도가 높아지지 않는 경우도 있음 따라서 모델이 잘 훈련되었는지 판단하려면 정확도보다는 손실함수의 값을 확인하는것이 더 낫다."
   ]
  },
  {
   "cell_type": "markdown",
   "metadata": {},
   "source": [
    "에포크마다 검증 손실을 계산하기 위해 케라스 모델의 fit() 메서드에 검증 데이터를 전달할 수 있다.  \n",
    "다음처럼 validation_data 매개변수에 검증에 사용할 입력과 타깃값을 튜플로 만들어 전달."
   ]
  },
  {
   "cell_type": "code",
   "execution_count": 12,
   "metadata": {
    "id": "4_iHvMxwu2D2"
   },
   "outputs": [],
   "source": [
    "model = model_fn()\n",
    "model.compile(loss='sparse_categorical_crossentropy', metrics='accuracy')\n",
    "\n",
    "history = model.fit(train_scaled, train_target, epochs=20, verbose=0,\n",
    "                    validation_data=(val_scaled, val_target))"
   ]
  },
  {
   "cell_type": "markdown",
   "metadata": {},
   "source": [
    "반환된 history.history 딕셔너리에 어떤 값이 들어 있는지 키를 확인해보자."
   ]
  },
  {
   "cell_type": "code",
   "execution_count": 13,
   "metadata": {
    "colab": {
     "base_uri": "https://localhost:8080/"
    },
    "id": "nJ5RGEmLu5KI",
    "outputId": "21a50d4a-56f0-447c-c74b-8b85396ac74f"
   },
   "outputs": [
    {
     "name": "stdout",
     "output_type": "stream",
     "text": [
      "dict_keys(['loss', 'accuracy', 'val_loss', 'val_accuracy'])\n"
     ]
    }
   ],
   "source": [
    "print(history.history.keys())"
   ]
  },
  {
   "cell_type": "markdown",
   "metadata": {},
   "source": [
    "검증 세트에 대한 손실은 'val_Loss'에 들어 있고 정확도는 'val_accuracy'에 들어 있다. 과대/과소적합 문제를 조사하기 위해 훈련 손실과 검증 손실을 한 그래프에 그려서 비교."
   ]
  },
  {
   "cell_type": "code",
   "execution_count": 14,
   "metadata": {
    "colab": {
     "base_uri": "https://localhost:8080/",
     "height": 454
    },
    "id": "zcpm7CpXu5vC",
    "outputId": "a3e18542-93f8-4efb-ee30-f178fe8f3119"
   },
   "outputs": [
    {
     "data": {
      "image/png": "[encoded data removed]",
      "text/plain": [
       "<Figure size 640x480 with 1 Axes>"
      ]
     },
     "metadata": {},
     "output_type": "display_data"
    }
   ],
   "source": [
    "plt.plot(history.history['loss'])\n",
    "plt.plot(history.history['val_loss'])\n",
    "plt.xlabel('epoch')\n",
    "plt.ylabel('loss')\n",
    "plt.legend(['train', 'val'])\n",
    "plt.show()"
   ]
  },
  {
   "cell_type": "markdown",
   "metadata": {},
   "source": [
    "초기에 검증 손실이 감소하다가 다섯 번째 에포크 만에 다시 상승. 훈련 손실은 꾸준히 감소하기 때문에 전형적인 과대적합 모델이 만들어짐.  \n",
    "검증 손실이 상승하는 시점을 가능한 뒤로 늦추면 검증 세트에 대한 손실이 줄어들 뿐만 아니라 검증 세트에 대한 정확도도 증가할 것."
   ]
  },
  {
   "cell_type": "markdown",
   "metadata": {},
   "source": [
    "과대 적합을 막기 위해 3장에서 배운 규제 방식 대신에 신경망에 특화된 규제 방법을 다음 섹션에서 다루어 보자. 당장은 옵티마이저 하이퍼파라미터를 조정하여 과대적합을 완화 시킬수 있는가를 보자."
   ]
  },
  {
   "cell_type": "markdown",
   "metadata": {},
   "source": [
    "기본 RMSprop 옵티마이저는 많은 문제에서 잘 동작한다.  \n",
    "만약 이 옵티마이저 대신 다른 옵티마이저를 테스트해 보면 Adam이 좋은 선택이다.  \n",
    "Adam은 적응적 학습률을 사용하기 때문에 에포크가 질행되면서 학습률의 크기를 조정할 수 있다.  \n",
    "Adam 옵티마이저를 적용해 보고 훈련 손실과 검증 손실을 다시 그려보자."
   ]
  },
  {
   "cell_type": "code",
   "execution_count": 15,
   "metadata": {
    "id": "qC8gDwo3qcJv"
   },
   "outputs": [
    {
     "data": {
      "image/png": "[encoded data removed]",
      "text/plain": [
       "<Figure size 640x480 with 1 Axes>"
      ]
     },
     "metadata": {},
     "output_type": "display_data"
    }
   ],
   "source": [
    "model = model_fn()\n",
    "model.compile(optimizer='adam', loss='sparse_categorical_crossentropy',\n",
    "              metrics='accuracy')\n",
    "\n",
    "history = model.fit(train_scaled, train_target, epochs=20, verbose=0,\n",
    "                    validation_data=(val_scaled, val_target))\n",
    "plt.plot(history.history['loss'])\n",
    "plt.plot(history.history['val_loss'])\n",
    "plt.xlabel('epoch')\n",
    "plt.ylabel('loss')\n",
    "plt.legend(['train', 'val'])\n",
    "plt.show()"
   ]
  },
  {
   "cell_type": "markdown",
   "metadata": {},
   "source": [
    "과재 적합이 훨씬 줄었다. 검증 손실 그래프에 여전히 요동이 남아 있지만 열 번째 에포크까지 전반적인 감소 추세가 이어지고 있다.  \n",
    "이는 Adam 옵티마이저가 이 데이터셋에 잘 맞는다는 것을 보여줌.  \n",
    "더 나은 손실 곡선을 얻으려면 학습률을 조정해서 다시 시도해 볼 수도 있음."
   ]
  },
  {
   "cell_type": "markdown",
   "metadata": {
    "id": "F-dFY8lrYXm3"
   },
   "source": [
    "## 드롭아웃\n",
    "드롭 아웃 방식은 훈련 과정에서 층에 있는 일부 뉴런을 랜덤하게 꺼서(즉 뉴런의 출력을 0으로 만들어) 과대 적합을 막음."
   ]
  },
  {
   "cell_type": "markdown",
   "metadata": {},
   "source": [
    "어떤 샘플을 처리할 때는 은닉층의 두 번쨰 뉴런이 드롭아웃되어 h2 출력이 없다.  \n",
    "다른 샘플을 처리할 때는 은닉층이 첫 번째 뉴런이 드롭아웃되어 h1 출력이 없다.  \n",
    "뉴런은 랜덤하게 드롭아웃 되고 얼마나 많은 뉴런을 드롭할지는 우리가 정해야 할 또 다른 하이퍼파라미터이다."
   ]
  },
  {
   "cell_type": "markdown",
   "metadata": {},
   "source": [
    "드롭아웃이 왜 과대적합을 막을까?  \n",
    "이전 층의 일부 뉴런이 랜덤하게 꺼지면 특정 뉴런에 과대하게 의존하는 것을 줄일 수 있고 모든 입력에 대해 주의를 기울여야 한다.  \n",
    "일부 뉴런의 출력이 없을 수 있다는 것을 감안하면 이 신경망은 더 안정적인 예측을 만들 수 있을 것이다.  \n",
    "또 다른 해석은 드롭아웃을 적용해 훈련하는 것은 마치 2개의 신경망을 앙상블 하는 것처럼 상상할 수 있다.  \n",
    "앙상블은 과대적합을 막아주는 아주 좋은 기법이다. 더 좋은 예측 결과를 만들기 위해 여러 개의 모델을 훈련하는 머신러닝 알고리즘."
   ]
  },
  {
   "cell_type": "markdown",
   "metadata": {},
   "source": [
    "케라스에서는 드롭아웃을 keras.layers 패키지 아래 Dropout 클래스로 제공.  \n",
    "어떤 층의 뒤에 드롭아웃을 두어 이 층의 출력을 랜덤하게 0으로 만드는 것.  \n",
    "드롭아웃이 층처럼 사용되지만 훈련되는 모델 파라미터는 없다."
   ]
  },
  {
   "cell_type": "markdown",
   "metadata": {},
   "source": [
    "model_fn() 함수에 드롭아웃 객체를 전달하여 층을 추가해보자. 여기에서는 30% 정도를 드롭아웃.  \n",
    "만들어진 모델의 summary() 메서드를 사용해 드롭아웃 층이 잘 추가되었는지 확인."
   ]
  },
  {
   "cell_type": "code",
   "execution_count": 16,
   "metadata": {
    "colab": {
     "base_uri": "https://localhost:8080/"
    },
    "id": "AppFtFKgsk--",
    "outputId": "1986a0e5-ec64-415f-d691-2f85d863438b"
   },
   "outputs": [
    {
     "name": "stdout",
     "output_type": "stream",
     "text": [
      "Model: \"sequential_4\"\n",
      "_________________________________________________________________\n",
      " Layer (type)                Output Shape              Param #   \n",
      "=================================================================\n",
      " flatten_4 (Flatten)         (None, 784)               0         \n",
      "                                                                 \n",
      " dense_8 (Dense)             (None, 100)               78500     \n",
      "                                                                 \n",
      " dropout (Dropout)           (None, 100)               0         \n",
      "                                                                 \n",
      " dense_9 (Dense)             (None, 10)                1010      \n",
      "                                                                 \n",
      "=================================================================\n",
      "Total params: 79,510\n",
      "Trainable params: 79,510\n",
      "Non-trainable params: 0\n",
      "_________________________________________________________________\n"
     ]
    }
   ],
   "source": [
    "model = model_fn(keras.layers.Dropout(0.3))\n",
    "\n",
    "model.summary()"
   ]
  },
  {
   "cell_type": "markdown",
   "metadata": {},
   "source": [
    "출력 결과에서 볼 수 있듯이 은닉층 뒤에 추가된 드롭아웃 층(Dropout)은 훈련되는 모델 파라미터가 없다.  \n",
    "또한 입력과 출력의 크기가 같다. 일부 뉴런의 출력을 0으로 만들지만 전체 출력 배열의 크기를 바꾸지는 않는다.  \n",
    "물론, 훈련이 끝난 뒤에 평가나 예측을 수행할 때는 드롭아웃을 적용하지 말아야 한다.  \n",
    "훈련된 모든 뉴런을 사용해야 올바른 예측을 수행할 수 있다. 그렇다면 모델을 훈련한 다음 층을 다시 빼야 할까? 아니다.  \n",
    "똑똑하게도 텐서플로와 케라스는 모델을 평가와 예측에 사용할 때는 자동으로 드롭아웃을 적용하지 않는다.  \n",
    "그래서 마음 편하게 검증 점수를 계산할 수 있다.  \n",
    "이전과 마찬가지로 훈련 손실과 검증 손실의 그래프를 그려 비교.\n",
    "평가와 예측에 모델을 사용할 때는 드롭아웃이 적욛되지 않음."
   ]
  },
  {
   "cell_type": "code",
   "execution_count": 17,
   "metadata": {
    "id": "_TSe7oM9v1lW"
   },
   "outputs": [
    {
     "data": {
      "image/png": "[encoded data removed]",
      "text/plain": [
       "<Figure size 640x480 with 1 Axes>"
      ]
     },
     "metadata": {},
     "output_type": "display_data"
    }
   ],
   "source": [
    "model.compile(optimizer='adam', loss='sparse_categorical_crossentropy',\n",
    "              metrics='accuracy')\n",
    "\n",
    "history = model.fit(train_scaled, train_target, epochs=20, verbose=0,\n",
    "                    validation_data=(val_scaled, val_target))\n",
    "plt.plot(history.history['loss'])\n",
    "plt.plot(history.history['val_loss'])\n",
    "plt.xlabel('epoch')\n",
    "plt.ylabel('loss')\n",
    "plt.legend(['train', 'val'])\n",
    "plt.show()"
   ]
  },
  {
   "cell_type": "markdown",
   "metadata": {},
   "source": [
    "과대 적합이 확실히 줄었다. 열번 째 에포크 정도에서 검증 손실의 감소가 멈추지만 크게 상승하지 않고 어느 정도 유지되고 있다.  \n",
    "이 모델은 20번의 에포크 동안 훈련을 했기 때문에 결국 다소 과대적합 되어 있다.  \n",
    "그렇다면 과대적합 되지 않은 모델을 얻기 위해 에포크 횟수를 10으로 하고 다시 훈련해야함."
   ]
  },
  {
   "cell_type": "markdown",
   "metadata": {
    "id": "hQi91PCQorHr"
   },
   "source": [
    "## 모델 저장과 복원\n",
    "에포크 횟수를 10으로 다시 지정하고 모델을 훈련. 그리고 모델을 저장해야 함."
   ]
  },
  {
   "cell_type": "code",
   "execution_count": 18,
   "metadata": {
    "id": "npsYdX3rv6Oa"
   },
   "outputs": [],
   "source": [
    "model = model_fn(keras.layers.Dropout(0.3))\n",
    "model.compile(optimizer='adam', loss='sparse_categorical_crossentropy',\n",
    "              metrics='accuracy')\n",
    "\n",
    "history = model.fit(train_scaled, train_target, epochs=10, verbose=0,\n",
    "                    validation_data=(val_scaled, val_target))"
   ]
  },
  {
   "cell_type": "markdown",
   "metadata": {},
   "source": [
    "케라스 모델은 훈련된 모델의 파라미터를 저장하는 간편한 save_weights() 메서드를 제공.  \n",
    "기본적으로 이 메서드는 텐서플로의 체크포인트 포맷으로 저장하지만 파일의 확장자가 '.h5'일 경우 HDF5 포맷으로 저장된다."
   ]
  },
  {
   "cell_type": "code",
   "execution_count": 19,
   "metadata": {
    "id": "hWVYzt0Y2FPm"
   },
   "outputs": [],
   "source": [
    "model.save_weights('model-weights.h5')"
   ]
  },
  {
   "cell_type": "markdown",
   "metadata": {},
   "source": [
    "모델 구조와 모델 파라미터를 함꼐 저장하는 save() 메서드도 제공.  \n",
    "기본적으로 이 메서드는 텐서플로의 SavedModel 포맷으로 저장되지만 파일의 확장자가 '.h5'일 경우 HDF5 포맷으로 저장."
   ]
  },
  {
   "cell_type": "code",
   "execution_count": 20,
   "metadata": {
    "colab": {
     "base_uri": "https://localhost:8080/"
    },
    "id": "NissHzcq3xbN",
    "outputId": "d50e1450-21d4-4c7a-9383-bd6cc746dba9"
   },
   "outputs": [],
   "source": [
    "model.save('model-whole.h5')"
   ]
  },
  {
   "cell_type": "markdown",
   "metadata": {},
   "source": [
    "두 파일이 잘 만들어젔는지 확인."
   ]
  },
  {
   "cell_type": "code",
   "execution_count": 21,
   "metadata": {
    "colab": {
     "base_uri": "https://localhost:8080/"
    },
    "id": "2vljkGGu3AUl",
    "outputId": "16356027-5c4f-43d8-89d6-efa4606af725",
    "scrolled": true
   },
   "outputs": [
    {
     "name": "stderr",
     "output_type": "stream",
     "text": [
      "'ls'은(는) 내부 또는 외부 명령, 실행할 수 있는 프로그램, 또는\n",
      "배치 파일이 아닙니다.\n"
     ]
    }
   ],
   "source": [
    "!ls -al *.h5"
   ]
  },
  {
   "cell_type": "markdown",
   "metadata": {},
   "source": [
    "두 가지 실험. 첫 번째는 훈련을 하지 않은 새로운 모델을 만들고 model-weights.h5 파일에서 훈련된 모델 파라미터를 읽어서 사용.  \n",
    "두 번째는 아예 model-whole.h5 파일에서 새로운 모델을 만들어 바로 사용."
   ]
  },
  {
   "cell_type": "markdown",
   "metadata": {},
   "source": [
    "첫 번째 실험부터 시작"
   ]
  },
  {
   "cell_type": "code",
   "execution_count": 22,
   "metadata": {
    "id": "7-t6gC5Z3GCM"
   },
   "outputs": [],
   "source": [
    "model = model_fn(keras.layers.Dropout(0.3))\n",
    "\n",
    "model.load_weights('model-weights.h5')"
   ]
  },
  {
   "cell_type": "markdown",
   "metadata": {},
   "source": [
    "훈련하지 않은 새로운 모델을 만들고 이전에 저장했던 모델 파라미터를 적재.  \n",
    "이 때 사용하는 메서드는 save_weights()와 쌍을 이루는 load_weights() 메서드."
   ]
  },
  {
   "cell_type": "markdown",
   "metadata": {},
   "source": [
    "모델 파라미터를 적재하는 조건?  \n",
    "load_weights() 메서드를 사용하려면 save_weights() 메서드로 저장했던 모델과 정확히 같은 구조를 가져야 함.  \n",
    "그렇지 않으면 에러가 발생. 여기에서는 model_fn() 함수를 사용해 동일한 모델을 만들어 사용."
   ]
  },
  {
   "cell_type": "markdown",
   "metadata": {},
   "source": [
    "이 모델의 검증 정확도를 확인.  \n",
    "케라스에서 예측을 수행하는 predict() 메서드는 사이킷런과 달리 샘플마다 10개의 클래스에 대한 확률을 반환.  \n",
    "패션 MNIST 데이터셋이 다중 분류 문제이기 때문. 이진 분류 문제라면 양성 클래스에 대한 확률 하나만 반환함."
   ]
  },
  {
   "cell_type": "markdown",
   "metadata": {},
   "source": [
    "케라스에서는 확률마고 그냥 클래스를 예측해 주는 메서드는 없나?\n",
    "케라스 모델에는 predict_classeds() 메서드가 있지만 향후 사라질 예정이기 때문에  \n",
    "이 책에서는 케라스 문서에서 권장하는 대로 predict() 메서드를 사용."
   ]
  },
  {
   "cell_type": "markdown",
   "metadata": {},
   "source": [
    "패션 MNIST 데이터셋에서 덜어낸 검증 세트의 샘플 개수는 12000개이기 때문에 predict() 메서드는 (12000, 10) 크기의 배열을 반환.  \n",
    "따라서 조금 번거롭지만 10개 확률 중에 가장 큰 값의 인덱스를 골라 타깃 레이블과 비교하여 정확도 계산."
   ]
  },
  {
   "cell_type": "markdown",
   "metadata": {},
   "source": [
    "evaluate() 메서드를 왜 사용하지 않나?  \n",
    "모델 파라미터를 읽은 후 evaluate() 메서드를 사용하여 정확도를 출력할 수도 있다.  \n",
    "하지만 evaluate() 메서드는 손실을 계산하기 위해 반드시 먼저 compile() 메서드를 실행해야 한다.  \n",
    "여기에서는 새로운 데이터에 대해 정확도만 계산하면 되는 상황이라고 가정."
   ]
  },
  {
   "cell_type": "code",
   "execution_count": 23,
   "metadata": {
    "colab": {
     "base_uri": "https://localhost:8080/"
    },
    "id": "pHV9tBnzi8St",
    "outputId": "17c8b6db-79b8-42c5-fc77-3fa02d201004"
   },
   "outputs": [
    {
     "name": "stdout",
     "output_type": "stream",
     "text": [
      "375/375 [==============================] - 1s 2ms/step\n",
      "0.8790833333333333\n"
     ]
    }
   ],
   "source": [
    "import numpy as np\n",
    "\n",
    "val_labels = np.argmax(model.predict(val_scaled), axis=-1)\n",
    "print(np.mean(val_labels == val_target))"
   ]
  },
  {
   "cell_type": "markdown",
   "metadata": {},
   "source": [
    "모델의 predict() 메서드 결과에서 가장 큰 값을 고르기 위해 넘파이 argmax() 함수를 사용.  \n",
    "이 함수는 배열에서 가장 큰 값의 인덱스를 반환. 예를 들어 배열의 첫 번째 원소가 가장 큰 값일 경우 0을 반환.  \n",
    "다행히 준비한 타깃값도 0부터 시작하기 때문에 비교하기 좋음."
   ]
  },
  {
   "cell_type": "markdown",
   "metadata": {},
   "source": [
    "argmax() 함수의 axis=-1은 배열의 마지막 차원을 따라 최댓값을 고름.  \n",
    "검증 세트는 2차원 배열이기 때문에 마지막 차원은 1이 된다.  \n",
    "axis=1이면 열을 따라 각 행의 최댓값의 인덱스를 선택하고, axis=0이면 행을 따라 각 열의 최댓값의 인덱스를 선택."
   ]
  },
  {
   "cell_type": "markdown",
   "metadata": {},
   "source": [
    "그다음 라인은 argmax()로 고른 인덱스(val_labels)와 타깃(val_target)을 비교.  \n",
    "두 배열에서 각 위치의 값이 같으면 1이 되고 다르면 0이 된다. 이를 평균하면 정확도가 된다."
   ]
  },
  {
   "cell_type": "markdown",
   "metadata": {},
   "source": [
    "모델 전체를 파일에서 읽은 다음 검증 세트의 정확도를 출력해보자. 모델이 저장된 파일을 읽을 때는 케라스가 제공하는 load_model() 함수를 사용."
   ]
  },
  {
   "cell_type": "code",
   "execution_count": 24,
   "metadata": {
    "colab": {
     "base_uri": "https://localhost:8080/"
    },
    "id": "sRM3Vpki4QyH",
    "outputId": "a972c42d-35d1-4cc1-9c58-bdcbff331089"
   },
   "outputs": [
    {
     "name": "stdout",
     "output_type": "stream",
     "text": [
      "375/375 [==============================] - 1s 2ms/step - loss: 0.3411 - accuracy: 0.8791\n"
     ]
    },
    {
     "data": {
      "text/plain": [
       "[0.34113988280296326, 0.8790833353996277]"
      ]
     },
     "execution_count": 24,
     "metadata": {},
     "output_type": "execute_result"
    }
   ],
   "source": [
    "model = keras.models.load_model('model-whole.h5')\n",
    "\n",
    "model.evaluate(val_scaled, val_target)"
   ]
  },
  {
   "cell_type": "markdown",
   "metadata": {},
   "source": [
    "같은 모델을 저장하고 다시 불러들였기 때문에 위와 동일한 정확도를 얻음."
   ]
  },
  {
   "cell_type": "markdown",
   "metadata": {},
   "source": [
    "여기서는 어떻게 evaluate() 메서드를 사용할 수 있나?  \n",
    "load_model() 함수는 모델 파라미터뿐만 아니라 모델 구조와 옵티마이저 상태까지 모두 복원하기 때문에 evaluate() 메서드를 사용할 수 있다.  \n",
    "텐서플로 2.3에서는 load_model() 함수의 버그 때문에 evaluate() 메서드를 사용하기 전에 compile() 메서드를 호출해야함."
   ]
  },
  {
   "cell_type": "markdown",
   "metadata": {},
   "source": [
    "그런데 이 과정을 돌이켜보면 20번의 에포크 동안 모델을 훈련하여 검증 점수가 상승하는 지점읗 확인.  \n",
    "그다음 모델을 과대적합 되지 않는 에포크만큼 다시 훈련. 모델을 두 번씩 훈련하지 않고 한 번에 끝낼 수는 없을까?  \n",
    "케라스의 콜백을 사용하면 된다."
   ]
  },
  {
   "cell_type": "markdown",
   "metadata": {
    "id": "4NTCF3YD3EyA"
   },
   "source": [
    "## 콜백\n",
    "**콜백**은 훈련 과정 중간에 어떤 작업을 수행할 수 있게 하는 객체로 keras.callbacks 패키지 아래에 있는 클래스들이다.  \n",
    "fit() 메서드의 callbacks 매개변수에 리스트로 전달하여 사용. 여기서 사용할 ModelCheckpoint 콜백은 기본적으로 에포크마다 모델을 저장.  \n",
    "save_best_only=True 매개변수를 지정하여 가장 낮은 검증 점수를 만드는 모델을 저장할 수 있다.  \n",
    "저장될 파일 이름을 'best-model.h5'로 지정하여 콜백을 적용해보자."
   ]
  },
  {
   "cell_type": "code",
   "execution_count": 25,
   "metadata": {
    "colab": {
     "base_uri": "https://localhost:8080/"
    },
    "id": "L2lKN_934VB4",
    "outputId": "4d1de57d-e539-4d38-939f-84a8a217e40b"
   },
   "outputs": [
    {
     "data": {
      "text/plain": [
       "<keras.callbacks.History at 0x1c33b62fa60>"
      ]
     },
     "execution_count": 25,
     "metadata": {},
     "output_type": "execute_result"
    }
   ],
   "source": [
    "model = model_fn(keras.layers.Dropout(0.3))\n",
    "model.compile(optimizer='adam', loss='sparse_categorical_crossentropy',\n",
    "              metrics='accuracy')\n",
    "\n",
    "checkpoint_cb = keras.callbacks.ModelCheckpoint('best-model.h5',\n",
    "                                                save_best_only=True)\n",
    "\n",
    "model.fit(train_scaled, train_target, epochs=20, verbose=0,\n",
    "          validation_data=(val_scaled, val_target),\n",
    "          callbacks=[checkpoint_cb])"
   ]
  },
  {
   "cell_type": "markdown",
   "metadata": {},
   "source": [
    "model_fn() 함수로 모델을 만들고 compile() 메서드를 호출하는 것은 이전과 동일.  \n",
    "ModelCheckpoint 클래스의 객체 checkpoint_cb를 만든 후 fit() 메서드의 callbacks 매개변수에 리스트로 감싸서 전달.  \n",
    "모델이 훈련한 후에 best-model.h5에 최상의 검증 점수를 낸 모델이 저장된다.  \n",
    "이 모델을 load_model() 함수로 다시 읽어서 예측을 수행해보자.  "
   ]
  },
  {
   "cell_type": "code",
   "execution_count": 26,
   "metadata": {
    "colab": {
     "base_uri": "https://localhost:8080/"
    },
    "id": "qYISeH6U5oh9",
    "outputId": "340cf8d3-b488-45f2-9dd0-e1366ac82a04"
   },
   "outputs": [
    {
     "name": "stdout",
     "output_type": "stream",
     "text": [
      "375/375 [==============================] - 1s 2ms/step - loss: 0.3226 - accuracy: 0.8842\n"
     ]
    },
    {
     "data": {
      "text/plain": [
       "[0.32264456152915955, 0.8842499852180481]"
      ]
     },
     "execution_count": 26,
     "metadata": {},
     "output_type": "execute_result"
    }
   ],
   "source": [
    "model = keras.models.load_model('best-model.h5')\n",
    "\n",
    "model.evaluate(val_scaled, val_target)"
   ]
  },
  {
   "cell_type": "markdown",
   "metadata": {},
   "source": [
    "ModelCheckpoint 콜백이 가장 낮은 검증 점수의 모델을 자동으로 저장함. 하지만 여전히 20번의 에포크 동안 훈련을 한다.  \n",
    "사실 검증 점수가 상승하기 시작하면 그이후에는 과대적합이 더 커지기 때문에 훈련을 계속할 필요가 없다.  \n",
    "이때 훈련을 중지하면 컴퓨터 자원과 시간을 아낄 수 있다. 이렇게 과대 적합이 시작되기 전에 훈련을 미리 중지하는 것을 조기 종료라고 부른다."
   ]
  },
  {
   "cell_type": "markdown",
   "metadata": {},
   "source": [
    "조기 종료는 훈련 에포크 횟수를 제한하는 역할이지만 모델이 과대 적합되는 것을 막아 주기 때문에 규제 방법 중 하나로 생각할 수도 있다.  \n",
    "과대 적합이 커지기 전에 훈련을 미리 중지하는 걸 조기 종료라고 한다.  \n",
    "케라스에는 조기 종료를 위한 EarlyStopping 콜백을 제공한다.  \n",
    "이 콜백의 patience 매개변수는 검증 점수가 향상되지 않더라도 참을 에포크 횟수로 지정한다. 예를 들어 다음 코드에서처럼 patience=2로 지정하면 2번 연속 검증 점수가 향상되지 않으면 훈련을 중지.  \n",
    "또한 restore_best_weights 매개 변수를 True로 지정하면 가장 낮은 검증 손실을 낸 모델 파라미터로 되돌림."
   ]
  },
  {
   "cell_type": "markdown",
   "metadata": {},
   "source": [
    "EarlyStopping 콜백을 ModelCheckpoint 콜백과 함께 사용하면 가장 낮은 검증 손실의 모델을 파일에 저장하고  \n",
    "검증 손실이 다시 상승할 때 훈련을 중지할 수 있다. 또한 훈련을 중지한 다음 현재 모델의 파라미터를 최상의 파라미터로 되돌린다.  "
   ]
  },
  {
   "cell_type": "code",
   "execution_count": 27,
   "metadata": {
    "id": "HLLlkR0s5Nd8"
   },
   "outputs": [],
   "source": [
    "model = model_fn(keras.layers.Dropout(0.3))\n",
    "model.compile(optimizer='adam', loss='sparse_categorical_crossentropy',\n",
    "              metrics='accuracy')\n",
    "\n",
    "checkpoint_cb = keras.callbacks.ModelCheckpoint('best-model.h5',\n",
    "                                                save_best_only=True)\n",
    "early_stopping_cb = keras.callbacks.EarlyStopping(patience=2,\n",
    "                                                  restore_best_weights=True)\n",
    "\n",
    "history = model.fit(train_scaled, train_target, epochs=20, verbose=0,\n",
    "                    validation_data=(val_scaled, val_target),\n",
    "                    callbacks=[checkpoint_cb, early_stopping_cb])"
   ]
  },
  {
   "cell_type": "markdown",
   "metadata": {},
   "source": [
    "EarlyStopping 콜백을 추가한 것 외에는 이전과 동일. fit() 메서드의 callbacks 매개변수에 2개의 콜백을 리스트로 전달한 것을 주목.  \n",
    "훈련을 마치고 나면 몇 번째 에포크에서 훈련이 중지되었는지 early_stopping_cb 객체의 stopped_epoch 속성에서 확인할 수 있다."
   ]
  },
  {
   "cell_type": "code",
   "execution_count": 28,
   "metadata": {
    "colab": {
     "base_uri": "https://localhost:8080/"
    },
    "id": "b6TazMcDxqXD",
    "outputId": "57cc7b8d-a46e-4c60-dc7e-643a54b5e08f"
   },
   "outputs": [
    {
     "name": "stdout",
     "output_type": "stream",
     "text": [
      "10\n"
     ]
    }
   ],
   "source": [
    "print(early_stopping_cb.stopped_epoch)"
   ]
  },
  {
   "cell_type": "markdown",
   "metadata": {},
   "source": [
    "책의 결과는 에포크 횟수가 0부터 시작하기에 12는 열세 번째 에포크에서 훈련이 중지되었다는 것을 의미.  \n",
    "patience를 2로 지정했으므로 최상의 모델은 열한 번째 에포크일 것임.  \n",
    "훈련 손실과 검증 손실을 출력해서 확인해보자."
   ]
  },
  {
   "cell_type": "code",
   "execution_count": 29,
   "metadata": {
    "colab": {
     "base_uri": "https://localhost:8080/",
     "height": 449
    },
    "id": "QrUNYGPB6Kq7",
    "outputId": "94bfbc85-ec83-4159-dc34-8a3ba4b5c6b4"
   },
   "outputs": [
    {
     "data": {
      "image/png": "[encoded data removed]",
      "text/plain": [
       "<Figure size 640x480 with 1 Axes>"
      ]
     },
     "metadata": {},
     "output_type": "display_data"
    }
   ],
   "source": [
    "plt.plot(history.history['loss'])\n",
    "plt.plot(history.history['val_loss'])\n",
    "plt.xlabel('epoch')\n",
    "plt.ylabel('loss')\n",
    "plt.legend(['train', 'val'])\n",
    "plt.show()"
   ]
  },
  {
   "cell_type": "markdown",
   "metadata": {},
   "source": [
    "열한 번째 에포크에서 가장 낮은 손실을 기록했고 열세 번째 에포크에서 훈련이 중지.  \n",
    "조기 종료 기법을 사용하면 안심하고 에포크 횟수를 크게 지정해도 괜찮다.  \n",
    "컴퓨터 자원과 시간을 아낄 수 있고 ModelCheckpoint 콜백과 함께 사용하면 최상의 모델을 자동으로 저장해주므로 편리."
   ]
  },
  {
   "cell_type": "markdown",
   "metadata": {},
   "source": [
    "마지막으로 조기 종료로 얻은 모델을 사용해 검증 세트에 대한 성능을 확인"
   ]
  },
  {
   "cell_type": "code",
   "execution_count": 30,
   "metadata": {
    "colab": {
     "base_uri": "https://localhost:8080/"
    },
    "id": "H-7y1qlg5yqO",
    "outputId": "505183b6-c098-4134-8177-c8f73f62b6ad"
   },
   "outputs": [
    {
     "name": "stdout",
     "output_type": "stream",
     "text": [
      "375/375 [==============================] - 1s 2ms/step - loss: 0.3256 - accuracy: 0.8827\n"
     ]
    },
    {
     "data": {
      "text/plain": [
       "[0.3256184160709381, 0.8826666474342346]"
      ]
     },
     "execution_count": 30,
     "metadata": {},
     "output_type": "execute_result"
    }
   ],
   "source": [
    "model.evaluate(val_scaled, val_target)"
   ]
  },
  {
   "cell_type": "markdown",
   "metadata": {},
   "source": [
    "# 정리\n",
    "최상의 신경망 모델 얻기\n",
    "인공 신경망 모델을 훈련하기 위한 다양한 도구를 배움.  \n",
    "fit() 메서드의 반환값을 사용해 훈련 세트와 검증 세트에 대한 손실을 그래프로 그릴 수 있음.  \n",
    "이를 위해 fit() 메서드는 훈련 세트뿐만 아니라 검증 세트를 전달할 수 있는 매개변수를 제공  \n",
    "과대 적합을 막기 위해 신경망에서 즐겨 사용하는 대표적인 규제 방법인 드롭아웃을 알아보았음.  \n",
    "드롭아웃은 일부 뉴런의 출력을 랜덤하게 꺼서 일부 뉴런에 의존하는 것을 막고 마치 많은 신경망을 앙상블하는 효과를 냄.  \n",
    "케라스에서는 드롭아웃을 층으로 제공하기 때문에 밀집층을 추가하듯이 간편하게 모델의 원하는 곳에 드롭아웃을 추가할 수 있다.  \n",
    "케라스는 훈련된 모델의 파라미터를 저장하고 다시 불러오는 메서드를 제공. 또한 모델 전체를 파일에 저장하고 파일에서 모델을 만들 수도 있다.  하지만 과대적합 되기 전의 에포크를 수동으로 찾아 모델을 다시 훈련하는 대신 콜백을 사용하면 자동으로 최상의 모델을 유지할 수 있다.  \n",
    "텐서플로와 케라스에는 더 많은 도구와 기능들을 제공.  "
   ]
  }
 ],
 "metadata": {
  "accelerator": "GPU",
  "colab": {
   "name": "7-3 신경망 모델 훈련.ipynb",
   "provenance": []
  },
  "kernelspec": {
   "display_name": "ai",
   "language": "python",
   "name": "ai"
  },
  "language_info": {
   "codemirror_mode": {
    "name": "ipython",
    "version": 3
   },
   "file_extension": ".py",
   "mimetype": "text/x-python",
   "name": "python",
   "nbconvert_exporter": "python",
   "pygments_lexer": "ipython3",
   "version": "3.10.9"
  }
 },
 "nbformat": 4,
 "nbformat_minor": 1
}
